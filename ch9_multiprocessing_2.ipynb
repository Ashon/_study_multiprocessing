{
 "cells": [
  {
   "cell_type": "markdown",
   "metadata": {},
   "source": [
    "# Chapter 9. The `multiprocessing` Module [2/2]\n",
    "\n",
    "## Queues of Work\n",
    "\n",
    "- **프로세스간 pickle로 변환할 수 있는 오브젝트들을 보낼 수 있는 일시적인 큐를 제공해 준다.**<br>\n",
    "  `multiprocessing.Queue` objects give us nonpersistent queues that can send any pickle-able objects between processes. <br>\n",
    "\n",
    "- **object들은 반드시 pickle로 변환되고, consumer안에서 unpickle 되므로 오버헤드를 수반한다.**<br>\n",
    "  They carry an overhead, as each object must be pickled to be sent and then unpickled in the consumer (along with some locking operations).<br>\n",
    "  \n",
    "- **저기에 드는 비용은 무시할 정도가 아님.** (not negligible)\n",
    "\n",
    "- **하지만 워커들이 큰 작업들을 처리한다면, 커뮤니케이션 오버헤드는 감당할 만함.** (acceptable)\n",
    "\n",
    "- **`Queue`는 native python으로 IPC를 가능하게 해 줌.** (.. ability to perfome lots of IPC ..)\n",
    "\n",
    "- 다양한 상태(lots of state)들을 처리하는데 유용할 것임.\n",
    "\n",
    "- 하지만 `Queue`는 지속성이 부족하기 때문에, 당신은(실패함에도 불구하고)<br>\n",
    "  그들을 견고함을 요구하는 작업에 사용하는것을 원치 않을 수 있다."
   ]
  },
  {
   "cell_type": "code",
   "execution_count": 4,
   "metadata": {
    "collapsed": true
   },
   "outputs": [],
   "source": [
    "import math\n",
    "\n",
    "\n",
    "FLAG_ALL_DONE = b\"WORK_FINISHED\"\n",
    "FLAG_WORKER_FINISHED_PROCESSING = b\"WORKER_FINISHED_PROCESSING\"\n",
    "\n",
    "\n",
    "def check_prime(possible_primes_queue, definite_primes_queue):\n",
    "    while True:\n",
    "        n = possible_primes_queue.get()\n",
    "        if n == FLAG_ALL_DONE:\n",
    "            definite_primes_queue.put(FLAG_WORKER_FINISHED_PROCESSING)\n",
    "            break\n",
    "        else:\n",
    "            if n % 2 == 0:\n",
    "                continue\n",
    "            for i in xrange(3, int(math.sqrt(n)) + 1, 2):\n",
    "                if n % i == 0:\n",
    "                    break\n",
    "                else:\n",
    "                    definite_primes_queue.put(n)"
   ]
  },
  {
   "cell_type": "code",
   "execution_count": null,
   "metadata": {
    "collapsed": false
   },
   "outputs": [],
   "source": [
    "import multiprocessing\n",
    "import time\n",
    "\n",
    "primes = []\n",
    "\n",
    "manager = multiprocessing.Manager()\n",
    "possible_primes_queue = manager.Queue()\n",
    "definite_primes_queue = manager.Queue()\n",
    "\n",
    "NBR_PROCESSES = 2\n",
    "\n",
    "pool = multiprocessing.Pool(NBR_PROCESSES)\n",
    "processes = []\n",
    "for _ in range(NBR_PROCESSES):\n",
    "    \n",
    "    p = multiprocessing.Process(\n",
    "        target=check_prime,\n",
    "        args=(possible_primes_queue, definite_primes_queue)\n",
    "    )\n",
    "    processes.append(p)\n",
    "    p.start()\n",
    "\n",
    "t1 = time.time()\n",
    "number_range = xrange(100000000, 101000000)\n",
    "\n",
    "for possible_prime in number_range:\n",
    "    possible_primes_queue.put(possible_prime)\n",
    "\n",
    "# add poison pills to stop the remote workers\n",
    "for n in xrange(NBR_PROCESSES):\n",
    "    possible_primes_queue.put(FLAG_ALL_DONE)\n",
    "\n",
    "processors_indicating_they_have_finished = 0\n",
    "while True:\n",
    "    new_result = definite_primes_queue.get() # block while waiting for results\n",
    "    if new_result == FLAG_WORKER_FINISHED_PROCESSING:\n",
    "        processors_indicating_they_have_finished += 1\n",
    "        if processors_indicating_they_have_finished == NBR_PROCESSES:\n",
    "            break\n",
    "    else:\n",
    "        primes.append(new_result)\n",
    "        \n",
    "assert processors_indicating_they_have_finished == NBR_PROCESSES\n",
    "\n",
    "print \"Took:\", time.time() - t1\n",
    "print len(primes), primes[:10], primes[-10:]"
   ]
  }
 ],
 "metadata": {
  "kernelspec": {
   "display_name": "Python 2",
   "language": "python",
   "name": "python2"
  },
  "language_info": {
   "codemirror_mode": {
    "name": "ipython",
    "version": 2
   },
   "file_extension": ".py",
   "mimetype": "text/x-python",
   "name": "python",
   "nbconvert_exporter": "python",
   "pygments_lexer": "ipython2",
   "version": "2.7.12"
  }
 },
 "nbformat": 4,
 "nbformat_minor": 1
}
